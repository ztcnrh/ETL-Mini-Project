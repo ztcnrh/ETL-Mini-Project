{
 "cells": [
  {
   "cell_type": "markdown",
   "id": "established-century",
   "metadata": {},
   "source": [
    "# Transformation\n",
    "<hr>\n",
    "\n",
    "### Cleaning, filtering, and joining two datasets: (1). \"source_kaggle.csv\", (2). \"source_ucsd.csv\"\n",
    "\n",
    "The purpose of this notebook is to combine the two datasets into one using the International Standard Book Number - 10 (ISBN-10) as the primary key. In addition, we will modify the combined final dataset to a degree that's best tailored for our future analysis (if there is any).\n",
    "\n",
    "The cleaned <strong>\"books.csv\"</strong> will have unique columns from both datasets which are the information we want to build a database for book references. It will also serve as our foundation for the next step in the ETL process - (L)oad."
   ]
  },
  {
   "cell_type": "code",
   "execution_count": 16,
   "id": "continent-liberia",
   "metadata": {},
   "outputs": [],
   "source": [
    "import pandas as pd"
   ]
  },
  {
   "cell_type": "code",
   "execution_count": 17,
   "id": "painful-prior",
   "metadata": {},
   "outputs": [],
   "source": [
    "# File path\n",
    "books_kaggle = \"../cleaned_datasets/source_kaggle.csv\"\n",
    "books_ucsd = \"../cleaned_datasets/source_ucsd.csv\""
   ]
  },
  {
   "cell_type": "code",
   "execution_count": 18,
   "id": "identical-packaging",
   "metadata": {},
   "outputs": [],
   "source": [
    "# Load df\n",
    "kaggle_df = pd.read_csv(books_kaggle)\n",
    "ucsd_df = pd.read_csv(books_ucsd)"
   ]
  },
  {
   "cell_type": "code",
   "execution_count": 19,
   "id": "increasing-blake",
   "metadata": {},
   "outputs": [
    {
     "data": {
      "text/html": [
       "<div>\n",
       "<style scoped>\n",
       "    .dataframe tbody tr th:only-of-type {\n",
       "        vertical-align: middle;\n",
       "    }\n",
       "\n",
       "    .dataframe tbody tr th {\n",
       "        vertical-align: top;\n",
       "    }\n",
       "\n",
       "    .dataframe thead th {\n",
       "        text-align: right;\n",
       "    }\n",
       "</style>\n",
       "<table border=\"1\" class=\"dataframe\">\n",
       "  <thead>\n",
       "    <tr style=\"text-align: right;\">\n",
       "      <th></th>\n",
       "      <th>ISBN</th>\n",
       "      <th>Name</th>\n",
       "      <th>Authors</th>\n",
       "      <th>Rating</th>\n",
       "    </tr>\n",
       "  </thead>\n",
       "  <tbody>\n",
       "    <tr>\n",
       "      <th>0</th>\n",
       "      <td>NaN</td>\n",
       "      <td>Harry Potter and the Half-Blood Prince (Harry ...</td>\n",
       "      <td>J.K. Rowling</td>\n",
       "      <td>4.57</td>\n",
       "    </tr>\n",
       "    <tr>\n",
       "      <th>1</th>\n",
       "      <td>0439358078</td>\n",
       "      <td>Harry Potter and the Order of the Phoenix (Har...</td>\n",
       "      <td>J.K. Rowling</td>\n",
       "      <td>4.50</td>\n",
       "    </tr>\n",
       "  </tbody>\n",
       "</table>\n",
       "</div>"
      ],
      "text/plain": [
       "         ISBN                                               Name  \\\n",
       "0         NaN  Harry Potter and the Half-Blood Prince (Harry ...   \n",
       "1  0439358078  Harry Potter and the Order of the Phoenix (Har...   \n",
       "\n",
       "        Authors  Rating  \n",
       "0  J.K. Rowling    4.57  \n",
       "1  J.K. Rowling    4.50  "
      ]
     },
     "execution_count": 19,
     "metadata": {},
     "output_type": "execute_result"
    }
   ],
   "source": [
    "# Check Kaggle dataset\n",
    "kaggle_df.head(2)\n",
    "# kaggle_df.shape"
   ]
  },
  {
   "cell_type": "code",
   "execution_count": 20,
   "id": "caroline-parish",
   "metadata": {},
   "outputs": [
    {
     "data": {
      "text/html": [
       "<div>\n",
       "<style scoped>\n",
       "    .dataframe tbody tr th:only-of-type {\n",
       "        vertical-align: middle;\n",
       "    }\n",
       "\n",
       "    .dataframe tbody tr th {\n",
       "        vertical-align: top;\n",
       "    }\n",
       "\n",
       "    .dataframe thead th {\n",
       "        text-align: right;\n",
       "    }\n",
       "</style>\n",
       "<table border=\"1\" class=\"dataframe\">\n",
       "  <thead>\n",
       "    <tr style=\"text-align: right;\">\n",
       "      <th></th>\n",
       "      <th>Unnamed: 0</th>\n",
       "      <th>isbn</th>\n",
       "      <th>isbn13</th>\n",
       "      <th>title</th>\n",
       "    </tr>\n",
       "  </thead>\n",
       "  <tbody>\n",
       "    <tr>\n",
       "      <th>0</th>\n",
       "      <td>0</td>\n",
       "      <td>0312853122</td>\n",
       "      <td>9780312853129</td>\n",
       "      <td>W.C. Fields: A Life on Film</td>\n",
       "    </tr>\n",
       "    <tr>\n",
       "      <th>1</th>\n",
       "      <td>1</td>\n",
       "      <td>0743509986</td>\n",
       "      <td>9780743509985</td>\n",
       "      <td>Good Harbor</td>\n",
       "    </tr>\n",
       "  </tbody>\n",
       "</table>\n",
       "</div>"
      ],
      "text/plain": [
       "   Unnamed: 0        isbn         isbn13                        title\n",
       "0           0  0312853122  9780312853129  W.C. Fields: A Life on Film\n",
       "1           1  0743509986  9780743509985                  Good Harbor"
      ]
     },
     "execution_count": 20,
     "metadata": {},
     "output_type": "execute_result"
    }
   ],
   "source": [
    "# Check UCSD dataset\n",
    "ucsd_df.head(2)\n",
    "# ucsd_df.shape"
   ]
  },
  {
   "cell_type": "code",
   "execution_count": 21,
   "id": "engaging-london",
   "metadata": {},
   "outputs": [
    {
     "data": {
      "text/plain": [
       "ISBN        object\n",
       "Name        object\n",
       "Authors     object\n",
       "Rating     float64\n",
       "dtype: object"
      ]
     },
     "execution_count": 21,
     "metadata": {},
     "output_type": "execute_result"
    }
   ],
   "source": [
    "kaggle_df.dtypes"
   ]
  },
  {
   "cell_type": "code",
   "execution_count": 22,
   "id": "imperial-duncan",
   "metadata": {},
   "outputs": [
    {
     "data": {
      "text/plain": [
       "Unnamed: 0     int64\n",
       "isbn          object\n",
       "isbn13        object\n",
       "title         object\n",
       "dtype: object"
      ]
     },
     "execution_count": 22,
     "metadata": {},
     "output_type": "execute_result"
    }
   ],
   "source": [
    "ucsd_df.dtypes"
   ]
  },
  {
   "cell_type": "markdown",
   "id": "experimental-hamburg",
   "metadata": {},
   "source": [
    "## Data Clean - Kaggle Dataset"
   ]
  },
  {
   "cell_type": "code",
   "execution_count": 6,
   "id": "latin-florence",
   "metadata": {},
   "outputs": [
    {
     "name": "stdout",
     "output_type": "stream",
     "text": [
      "ISBN       False\n",
      "Name       False\n",
      "Authors    False\n",
      "Rating     False\n",
      "dtype: bool\n"
     ]
    }
   ],
   "source": [
    "# Remove all NaN\n",
    "kaggle_df_cleaned = kaggle_df.dropna(axis='index', how='any')\n",
    "print(kaggle_df_cleaned.isna().any())"
   ]
  },
  {
   "cell_type": "code",
   "execution_count": 7,
   "id": "impressive-colonial",
   "metadata": {},
   "outputs": [
    {
     "data": {
      "text/html": [
       "<div>\n",
       "<style scoped>\n",
       "    .dataframe tbody tr th:only-of-type {\n",
       "        vertical-align: middle;\n",
       "    }\n",
       "\n",
       "    .dataframe tbody tr th {\n",
       "        vertical-align: top;\n",
       "    }\n",
       "\n",
       "    .dataframe thead th {\n",
       "        text-align: right;\n",
       "    }\n",
       "</style>\n",
       "<table border=\"1\" class=\"dataframe\">\n",
       "  <thead>\n",
       "    <tr style=\"text-align: right;\">\n",
       "      <th></th>\n",
       "      <th>isbn</th>\n",
       "      <th>book_name</th>\n",
       "      <th>authors</th>\n",
       "      <th>rating</th>\n",
       "    </tr>\n",
       "  </thead>\n",
       "  <tbody>\n",
       "    <tr>\n",
       "      <th>1</th>\n",
       "      <td>0439358078</td>\n",
       "      <td>Harry Potter and the Order of the Phoenix (Har...</td>\n",
       "      <td>J.K. Rowling</td>\n",
       "      <td>4.50</td>\n",
       "    </tr>\n",
       "    <tr>\n",
       "      <th>3</th>\n",
       "      <td>0439554896</td>\n",
       "      <td>Harry Potter and the Chamber of Secrets (Harry...</td>\n",
       "      <td>J.K. Rowling</td>\n",
       "      <td>4.42</td>\n",
       "    </tr>\n",
       "  </tbody>\n",
       "</table>\n",
       "</div>"
      ],
      "text/plain": [
       "         isbn                                          book_name  \\\n",
       "1  0439358078  Harry Potter and the Order of the Phoenix (Har...   \n",
       "3  0439554896  Harry Potter and the Chamber of Secrets (Harry...   \n",
       "\n",
       "        authors  rating  \n",
       "1  J.K. Rowling    4.50  \n",
       "3  J.K. Rowling    4.42  "
      ]
     },
     "execution_count": 7,
     "metadata": {},
     "output_type": "execute_result"
    }
   ],
   "source": [
    "# Rename columns to match style in the UCSD dataset\n",
    "kaggle_df_cleaned = kaggle_df_cleaned.rename(columns={\n",
    "    'ISBN': 'isbn',\n",
    "    'Name': 'book_name',\n",
    "    'Authors': 'authors',\n",
    "    'Rating': 'rating'\n",
    "})\n",
    "\n",
    "kaggle_df_cleaned.head(2)"
   ]
  },
  {
   "cell_type": "code",
   "execution_count": 8,
   "id": "residential-provincial",
   "metadata": {},
   "outputs": [],
   "source": [
    "# Drop some rows with duplicated book names\n",
    "kaggle_df_unique = kaggle_df_cleaned.drop_duplicates(subset='book_name', keep=False)"
   ]
  },
  {
   "cell_type": "code",
   "execution_count": 9,
   "id": "julian-bubble",
   "metadata": {},
   "outputs": [
    {
     "data": {
      "text/plain": [
       "(757407, 4)"
      ]
     },
     "execution_count": 9,
     "metadata": {},
     "output_type": "execute_result"
    }
   ],
   "source": [
    "kaggle_df_unique.shape"
   ]
  },
  {
   "cell_type": "markdown",
   "id": "matched-sullivan",
   "metadata": {},
   "source": [
    "## Data Clean - UCSD Dataset"
   ]
  },
  {
   "cell_type": "code",
   "execution_count": 10,
   "id": "incoming-battery",
   "metadata": {},
   "outputs": [
    {
     "data": {
      "text/html": [
       "<div>\n",
       "<style scoped>\n",
       "    .dataframe tbody tr th:only-of-type {\n",
       "        vertical-align: middle;\n",
       "    }\n",
       "\n",
       "    .dataframe tbody tr th {\n",
       "        vertical-align: top;\n",
       "    }\n",
       "\n",
       "    .dataframe thead th {\n",
       "        text-align: right;\n",
       "    }\n",
       "</style>\n",
       "<table border=\"1\" class=\"dataframe\">\n",
       "  <thead>\n",
       "    <tr style=\"text-align: right;\">\n",
       "      <th></th>\n",
       "      <th>isbn</th>\n",
       "      <th>isbn13</th>\n",
       "      <th>title</th>\n",
       "    </tr>\n",
       "  </thead>\n",
       "  <tbody>\n",
       "    <tr>\n",
       "      <th>0</th>\n",
       "      <td>0312853122</td>\n",
       "      <td>9780312853129</td>\n",
       "      <td>W.C. Fields: A Life on Film</td>\n",
       "    </tr>\n",
       "  </tbody>\n",
       "</table>\n",
       "</div>"
      ],
      "text/plain": [
       "         isbn         isbn13                        title\n",
       "0  0312853122  9780312853129  W.C. Fields: A Life on Film"
      ]
     },
     "execution_count": 10,
     "metadata": {},
     "output_type": "execute_result"
    }
   ],
   "source": [
    "# Delete first row (an undesired index column resulted from a json to csv conversion)\n",
    "ucsd_df_cleaned = ucsd_df.drop(columns=['Unnamed: 0'])\n",
    "ucsd_df_cleaned.head(1)"
   ]
  },
  {
   "cell_type": "code",
   "execution_count": 11,
   "id": "cross-numbers",
   "metadata": {},
   "outputs": [
    {
     "name": "stdout",
     "output_type": "stream",
     "text": [
      "isbn      False\n",
      "isbn13    False\n",
      "title     False\n",
      "dtype: bool\n"
     ]
    }
   ],
   "source": [
    "# Remove all NaN\n",
    "ucsd_df_cleaned.dropna(axis='index', how='any', inplace=True)\n",
    "print(ucsd_df_cleaned.isna().any())"
   ]
  },
  {
   "cell_type": "code",
   "execution_count": 12,
   "id": "cathedral-enough",
   "metadata": {},
   "outputs": [],
   "source": [
    "# Drop some duplicated titles\n",
    "ucsd_df_unique = ucsd_df_cleaned.drop_duplicates(subset='title', keep=False)"
   ]
  },
  {
   "cell_type": "code",
   "execution_count": 13,
   "id": "progressive-pollution",
   "metadata": {},
   "outputs": [
    {
     "data": {
      "text/plain": [
       "(235058, 3)"
      ]
     },
     "execution_count": 13,
     "metadata": {},
     "output_type": "execute_result"
    }
   ],
   "source": [
    "ucsd_df_unique.shape"
   ]
  },
  {
   "cell_type": "markdown",
   "id": "regular-diversity",
   "metadata": {},
   "source": [
    "## Finalize datasets for Loading"
   ]
  },
  {
   "cell_type": "code",
   "execution_count": 14,
   "id": "martial-weekend",
   "metadata": {},
   "outputs": [],
   "source": [
    "# Create final dataset copies\n",
    "kaggle_final = kaggle_df_unique.copy()\n",
    "ucsd_final = ucsd_df_unique.copy()"
   ]
  },
  {
   "cell_type": "code",
   "execution_count": 15,
   "id": "multiple-outdoors",
   "metadata": {},
   "outputs": [],
   "source": [
    "# Export cleaned csv files to the \"final_datasets\" folder\n",
    "kaggle_final.to_csv('../final_datasets/books_info.csv', index=False)\n",
    "ucsd_final.to_csv('../final_datasets/isbn13.csv', index=False)"
   ]
  },
  {
   "cell_type": "code",
   "execution_count": null,
   "id": "awful-finish",
   "metadata": {},
   "outputs": [],
   "source": []
  }
 ],
 "metadata": {
  "kernelspec": {
   "display_name": "Python [conda env:PythonData] *",
   "language": "python",
   "name": "conda-env-PythonData-py"
  },
  "language_info": {
   "codemirror_mode": {
    "name": "ipython",
    "version": 3
   },
   "file_extension": ".py",
   "mimetype": "text/x-python",
   "name": "python",
   "nbconvert_exporter": "python",
   "pygments_lexer": "ipython3",
   "version": "3.6.10"
  }
 },
 "nbformat": 4,
 "nbformat_minor": 5
}
