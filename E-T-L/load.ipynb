{
 "cells": [
  {
   "cell_type": "markdown",
   "id": "prepared-worst",
   "metadata": {},
   "source": [
    "# Load\n",
    "<hr>\n",
    "\n",
    "## Use SQLAlchemy to build a relational database\n",
    "\n",
    "The purpose of this notebook is to create table anchor points (Classes) in python using SQLAlchemy by referencing the table structures from the saved databases in the \"final_datasets\" folder. The goal is to load the data from the csv files into our database."
   ]
  },
  {
   "cell_type": "code",
   "execution_count": 1,
   "id": "human-tongue",
   "metadata": {},
   "outputs": [],
   "source": [
    "# Dependencies\n",
    "import pandas as pd\n",
    "from sqlalchemy import create_engine, inspect, func\n",
    "from sqlalchemy.ext.declarative import declarative_base\n",
    "from sqlalchemy import Column, Integer, String, Float "
   ]
  },
  {
   "cell_type": "code",
   "execution_count": 2,
   "id": "designing-grammar",
   "metadata": {},
   "outputs": [],
   "source": [
    "# Sets an object to utilize the default declarative base in SQL Alchemy\n",
    "Base = declarative_base()"
   ]
  },
  {
   "cell_type": "code",
   "execution_count": 3,
   "id": "serious-waters",
   "metadata": {},
   "outputs": [],
   "source": [
    "# Creates Classes which will serve as the anchor points for our Tables\n",
    "class Books(Base):\n",
    "    __tablename__ = 'books_info'\n",
    "    isbn = Column(String(100), primary_key=True)\n",
    "    book_name = Column(String(500))\n",
    "    authors = Column(String(255))\n",
    "    rating = Column(Float)\n",
    "\n",
    "\n",
    "class ISBN13(Base):\n",
    "    __tablename__ = 'isbn13'\n",
    "    isbn = Column(String(100))\n",
    "    isbn13 = Column(String(100), primary_key=True)\n",
    "    title = Column(String(500))"
   ]
  },
  {
   "cell_type": "markdown",
   "id": "brief-lightweight",
   "metadata": {},
   "source": [
    "### Create and load instances of data for both Books and ISBN13 classes within for loops:"
   ]
  },
  {
   "cell_type": "code",
   "execution_count": 4,
   "id": "restricted-gardening",
   "metadata": {},
   "outputs": [],
   "source": [
    "# Create Database Connection\n",
    "database_path = '../database/goodreads.sqlite'\n",
    "engine = create_engine(f'sqlite:///{database_path}')\n",
    "conn = engine.connect()"
   ]
  },
  {
   "cell_type": "code",
   "execution_count": 5,
   "id": "fatal-palestinian",
   "metadata": {},
   "outputs": [],
   "source": [
    "# Create (if not already in existence) the tables associated with our classes.\n",
    "Base.metadata.create_all(engine)\n",
    "\n",
    "# Use this to clear out the db (if applicable)\n",
    "# Base.metadata.drop_all(engine)"
   ]
  },
  {
   "cell_type": "code",
   "execution_count": 6,
   "id": "manufactured-equity",
   "metadata": {},
   "outputs": [
    {
     "data": {
      "text/plain": [
       "['books_info', 'isbn13']"
      ]
     },
     "execution_count": 6,
     "metadata": {},
     "output_type": "execute_result"
    }
   ],
   "source": [
    "# Check for tables\n",
    "engine.table_names()"
   ]
  },
  {
   "cell_type": "markdown",
   "id": "prompt-bruce",
   "metadata": {},
   "source": [
    "#### Books"
   ]
  },
  {
   "cell_type": "code",
   "execution_count": 7,
   "id": "directed-smooth",
   "metadata": {},
   "outputs": [
    {
     "data": {
      "text/html": [
       "<div>\n",
       "<style scoped>\n",
       "    .dataframe tbody tr th:only-of-type {\n",
       "        vertical-align: middle;\n",
       "    }\n",
       "\n",
       "    .dataframe tbody tr th {\n",
       "        vertical-align: top;\n",
       "    }\n",
       "\n",
       "    .dataframe thead th {\n",
       "        text-align: right;\n",
       "    }\n",
       "</style>\n",
       "<table border=\"1\" class=\"dataframe\">\n",
       "  <thead>\n",
       "    <tr style=\"text-align: right;\">\n",
       "      <th></th>\n",
       "      <th>isbn</th>\n",
       "      <th>book_name</th>\n",
       "      <th>authors</th>\n",
       "      <th>rating</th>\n",
       "    </tr>\n",
       "  </thead>\n",
       "  <tbody>\n",
       "    <tr>\n",
       "      <th>0</th>\n",
       "      <td>0439682584</td>\n",
       "      <td>Harry Potter Boxed Set, Books 1-5 (Harry Potte...</td>\n",
       "      <td>J.K. Rowling</td>\n",
       "      <td>4.78</td>\n",
       "    </tr>\n",
       "    <tr>\n",
       "      <th>1</th>\n",
       "      <td>0976540606</td>\n",
       "      <td>Unauthorized Harry Potter Book Seven News: \"Ha...</td>\n",
       "      <td>W. Frederick Zimmerman</td>\n",
       "      <td>3.79</td>\n",
       "    </tr>\n",
       "  </tbody>\n",
       "</table>\n",
       "</div>"
      ],
      "text/plain": [
       "         isbn                                          book_name  \\\n",
       "0  0439682584  Harry Potter Boxed Set, Books 1-5 (Harry Potte...   \n",
       "1  0976540606  Unauthorized Harry Potter Book Seven News: \"Ha...   \n",
       "\n",
       "                  authors  rating  \n",
       "0            J.K. Rowling    4.78  \n",
       "1  W. Frederick Zimmerman    3.79  "
      ]
     },
     "execution_count": 7,
     "metadata": {},
     "output_type": "execute_result"
    }
   ],
   "source": [
    "books_info_df = pd.read_csv('../final_datasets/books_info.csv')\n",
    "books_info_df.head(2)"
   ]
  },
  {
   "cell_type": "markdown",
   "id": "healthy-cocktail",
   "metadata": {},
   "source": [
    "##### Use pandas to load csv converted books_info df into database"
   ]
  },
  {
   "cell_type": "code",
   "execution_count": 8,
   "id": "sustainable-ownership",
   "metadata": {},
   "outputs": [],
   "source": [
    "books_info_df.to_sql(name='books_info', con=engine, if_exists='append', index=False)"
   ]
  },
  {
   "cell_type": "markdown",
   "id": "joined-coach",
   "metadata": {},
   "source": [
    "<br>"
   ]
  },
  {
   "cell_type": "markdown",
   "id": "novel-combine",
   "metadata": {},
   "source": [
    "#### ISBN13"
   ]
  },
  {
   "cell_type": "code",
   "execution_count": 9,
   "id": "western-robin",
   "metadata": {},
   "outputs": [
    {
     "data": {
      "text/html": [
       "<div>\n",
       "<style scoped>\n",
       "    .dataframe tbody tr th:only-of-type {\n",
       "        vertical-align: middle;\n",
       "    }\n",
       "\n",
       "    .dataframe tbody tr th {\n",
       "        vertical-align: top;\n",
       "    }\n",
       "\n",
       "    .dataframe thead th {\n",
       "        text-align: right;\n",
       "    }\n",
       "</style>\n",
       "<table border=\"1\" class=\"dataframe\">\n",
       "  <thead>\n",
       "    <tr style=\"text-align: right;\">\n",
       "      <th></th>\n",
       "      <th>isbn</th>\n",
       "      <th>isbn13</th>\n",
       "      <th>title</th>\n",
       "    </tr>\n",
       "  </thead>\n",
       "  <tbody>\n",
       "    <tr>\n",
       "      <th>0</th>\n",
       "      <td>0312853122</td>\n",
       "      <td>9780312853129</td>\n",
       "      <td>W.C. Fields: A Life on Film</td>\n",
       "    </tr>\n",
       "    <tr>\n",
       "      <th>1</th>\n",
       "      <td>0850308712</td>\n",
       "      <td>9780850308716</td>\n",
       "      <td>Runic Astrology: Starcraft and Timekeeping in ...</td>\n",
       "    </tr>\n",
       "  </tbody>\n",
       "</table>\n",
       "</div>"
      ],
      "text/plain": [
       "         isbn         isbn13  \\\n",
       "0  0312853122  9780312853129   \n",
       "1  0850308712  9780850308716   \n",
       "\n",
       "                                               title  \n",
       "0                        W.C. Fields: A Life on Film  \n",
       "1  Runic Astrology: Starcraft and Timekeeping in ...  "
      ]
     },
     "execution_count": 9,
     "metadata": {},
     "output_type": "execute_result"
    }
   ],
   "source": [
    "isbn13_df = pd.read_csv('../final_datasets/isbn13.csv')\n",
    "isbn13_df.head(2)"
   ]
  },
  {
   "cell_type": "markdown",
   "id": "cooked-scale",
   "metadata": {},
   "source": [
    "##### Use pandas to load csv converted isbn13 df into database"
   ]
  },
  {
   "cell_type": "code",
   "execution_count": 10,
   "id": "vanilla-investment",
   "metadata": {},
   "outputs": [],
   "source": [
    "isbn13_df.to_sql(name='isbn13', con=engine, if_exists='append', index=False)"
   ]
  },
  {
   "cell_type": "markdown",
   "id": "general-principal",
   "metadata": {},
   "source": [
    "<hr>"
   ]
  },
  {
   "cell_type": "markdown",
   "id": "million-fisher",
   "metadata": {},
   "source": [
    "### Confirm data has been added by querying the customer_location table"
   ]
  },
  {
   "cell_type": "code",
   "execution_count": 11,
   "id": "ahead-click",
   "metadata": {},
   "outputs": [
    {
     "data": {
      "text/html": [
       "<div>\n",
       "<style scoped>\n",
       "    .dataframe tbody tr th:only-of-type {\n",
       "        vertical-align: middle;\n",
       "    }\n",
       "\n",
       "    .dataframe tbody tr th {\n",
       "        vertical-align: top;\n",
       "    }\n",
       "\n",
       "    .dataframe thead th {\n",
       "        text-align: right;\n",
       "    }\n",
       "</style>\n",
       "<table border=\"1\" class=\"dataframe\">\n",
       "  <thead>\n",
       "    <tr style=\"text-align: right;\">\n",
       "      <th></th>\n",
       "      <th>isbn</th>\n",
       "      <th>book_name</th>\n",
       "      <th>authors</th>\n",
       "      <th>rating</th>\n",
       "    </tr>\n",
       "  </thead>\n",
       "  <tbody>\n",
       "    <tr>\n",
       "      <th>0</th>\n",
       "      <td>0439682584</td>\n",
       "      <td>Harry Potter Boxed Set, Books 1-5 (Harry Potte...</td>\n",
       "      <td>J.K. Rowling</td>\n",
       "      <td>4.78</td>\n",
       "    </tr>\n",
       "    <tr>\n",
       "      <th>1</th>\n",
       "      <td>0976540606</td>\n",
       "      <td>Unauthorized Harry Potter Book Seven News: \"Ha...</td>\n",
       "      <td>W. Frederick Zimmerman</td>\n",
       "      <td>3.79</td>\n",
       "    </tr>\n",
       "    <tr>\n",
       "      <th>2</th>\n",
       "      <td>0439827604</td>\n",
       "      <td>Harry Potter Collection (Harry Potter, #1-6)</td>\n",
       "      <td>J.K. Rowling</td>\n",
       "      <td>4.73</td>\n",
       "    </tr>\n",
       "    <tr>\n",
       "      <th>3</th>\n",
       "      <td>0517226952</td>\n",
       "      <td>The Ultimate Hitchhiker's Guide: Five Complete...</td>\n",
       "      <td>Douglas Adams</td>\n",
       "      <td>4.37</td>\n",
       "    </tr>\n",
       "    <tr>\n",
       "      <th>4</th>\n",
       "      <td>0345453743</td>\n",
       "      <td>The Ultimate Hitchhiker's Guide to the Galaxy ...</td>\n",
       "      <td>Douglas Adams</td>\n",
       "      <td>4.37</td>\n",
       "    </tr>\n",
       "  </tbody>\n",
       "</table>\n",
       "</div>"
      ],
      "text/plain": [
       "         isbn                                          book_name  \\\n",
       "0  0439682584  Harry Potter Boxed Set, Books 1-5 (Harry Potte...   \n",
       "1  0976540606  Unauthorized Harry Potter Book Seven News: \"Ha...   \n",
       "2  0439827604       Harry Potter Collection (Harry Potter, #1-6)   \n",
       "3  0517226952  The Ultimate Hitchhiker's Guide: Five Complete...   \n",
       "4  0345453743  The Ultimate Hitchhiker's Guide to the Galaxy ...   \n",
       "\n",
       "                  authors  rating  \n",
       "0            J.K. Rowling    4.78  \n",
       "1  W. Frederick Zimmerman    3.79  \n",
       "2            J.K. Rowling    4.73  \n",
       "3           Douglas Adams    4.37  \n",
       "4           Douglas Adams    4.37  "
      ]
     },
     "execution_count": 11,
     "metadata": {},
     "output_type": "execute_result"
    }
   ],
   "source": [
    "# \"books_info\" table\n",
    "check_books_info = pd.read_sql_query('select * from books_info', con=engine)\n",
    "check_books_info.head()"
   ]
  },
  {
   "cell_type": "code",
   "execution_count": 12,
   "id": "painted-bargain",
   "metadata": {},
   "outputs": [
    {
     "data": {
      "text/plain": [
       "(757407, 4)"
      ]
     },
     "execution_count": 12,
     "metadata": {},
     "output_type": "execute_result"
    }
   ],
   "source": [
    "# Check number of rows\n",
    "check_books_info.shape"
   ]
  },
  {
   "cell_type": "code",
   "execution_count": 13,
   "id": "connected-finance",
   "metadata": {},
   "outputs": [
    {
     "data": {
      "text/html": [
       "<div>\n",
       "<style scoped>\n",
       "    .dataframe tbody tr th:only-of-type {\n",
       "        vertical-align: middle;\n",
       "    }\n",
       "\n",
       "    .dataframe tbody tr th {\n",
       "        vertical-align: top;\n",
       "    }\n",
       "\n",
       "    .dataframe thead th {\n",
       "        text-align: right;\n",
       "    }\n",
       "</style>\n",
       "<table border=\"1\" class=\"dataframe\">\n",
       "  <thead>\n",
       "    <tr style=\"text-align: right;\">\n",
       "      <th></th>\n",
       "      <th>isbn</th>\n",
       "      <th>isbn13</th>\n",
       "      <th>title</th>\n",
       "    </tr>\n",
       "  </thead>\n",
       "  <tbody>\n",
       "    <tr>\n",
       "      <th>0</th>\n",
       "      <td>0312853122</td>\n",
       "      <td>9780312853129</td>\n",
       "      <td>W.C. Fields: A Life on Film</td>\n",
       "    </tr>\n",
       "    <tr>\n",
       "      <th>1</th>\n",
       "      <td>0850308712</td>\n",
       "      <td>9780850308716</td>\n",
       "      <td>Runic Astrology: Starcraft and Timekeeping in ...</td>\n",
       "    </tr>\n",
       "    <tr>\n",
       "      <th>2</th>\n",
       "      <td>1599150603</td>\n",
       "      <td>9781599150604</td>\n",
       "      <td>The Aeneid for Boys and Girls</td>\n",
       "    </tr>\n",
       "    <tr>\n",
       "      <th>3</th>\n",
       "      <td>0425040887</td>\n",
       "      <td>9780425040881</td>\n",
       "      <td>The Wanting of Levine</td>\n",
       "    </tr>\n",
       "    <tr>\n",
       "      <th>4</th>\n",
       "      <td>1934876569</td>\n",
       "      <td>9781934876565</td>\n",
       "      <td>All's Fairy in Love and War (Avalon: Web of Ma...</td>\n",
       "    </tr>\n",
       "  </tbody>\n",
       "</table>\n",
       "</div>"
      ],
      "text/plain": [
       "         isbn         isbn13  \\\n",
       "0  0312853122  9780312853129   \n",
       "1  0850308712  9780850308716   \n",
       "2  1599150603  9781599150604   \n",
       "3  0425040887  9780425040881   \n",
       "4  1934876569  9781934876565   \n",
       "\n",
       "                                               title  \n",
       "0                        W.C. Fields: A Life on Film  \n",
       "1  Runic Astrology: Starcraft and Timekeeping in ...  \n",
       "2                      The Aeneid for Boys and Girls  \n",
       "3                              The Wanting of Levine  \n",
       "4  All's Fairy in Love and War (Avalon: Web of Ma...  "
      ]
     },
     "execution_count": 13,
     "metadata": {},
     "output_type": "execute_result"
    }
   ],
   "source": [
    "# \"isbn13\" table\n",
    "check_isbn13 = pd.read_sql_query('select * from isbn13', con=engine)\n",
    "check_isbn13.head()"
   ]
  },
  {
   "cell_type": "code",
   "execution_count": 14,
   "id": "magnetic-toddler",
   "metadata": {},
   "outputs": [
    {
     "data": {
      "text/plain": [
       "(235058, 3)"
      ]
     },
     "execution_count": 14,
     "metadata": {},
     "output_type": "execute_result"
    }
   ],
   "source": [
    "# Check number of rows\n",
    "check_isbn13.shape"
   ]
  },
  {
   "cell_type": "markdown",
   "id": "powerful-marijuana",
   "metadata": {},
   "source": [
    "<strong>Check how many overlapped ISBN-10 (\"isbn\") there are</strong>"
   ]
  },
  {
   "cell_type": "code",
   "execution_count": 29,
   "id": "found-export",
   "metadata": {},
   "outputs": [
    {
     "name": "stdout",
     "output_type": "stream",
     "text": [
      "(39651, 6)\n"
     ]
    }
   ],
   "source": [
    "# Check how many overlapped ISBN-10 (\"isbn\") there are\n",
    "merged_df = pd.merge(books_info_df, isbn13_df, on='isbn', how='inner')\n",
    "print(merged_df.shape)"
   ]
  },
  {
   "cell_type": "markdown",
   "id": "ahead-server",
   "metadata": {},
   "source": [
    "### Perform two example queries for two hypothetical analytical scenarios"
   ]
  },
  {
   "cell_type": "code",
   "execution_count": 16,
   "id": "studied-swift",
   "metadata": {},
   "outputs": [],
   "source": [
    "# We will create a Session Object to perform the queries\n",
    "from sqlalchemy.orm import Session\n",
    "session = Session(bind=engine)"
   ]
  },
  {
   "cell_type": "markdown",
   "id": "secret-beach",
   "metadata": {},
   "source": [
    "#### Scenario 1\n",
    "We are in a bookshop and we want to buy some awesome books! These two datasets are all we have in our tool box and we want to use them to find the books that have the top 10 highest ratings  and their ISBN-13 codes. Assume the bookshop Boss is a robot and he/she can only recognize ISBN-13 as inputs to find books we're looking for."
   ]
  },
  {
   "cell_type": "code",
   "execution_count": 44,
   "id": "efficient-miracle",
   "metadata": {},
   "outputs": [
    {
     "name": "stdout",
     "output_type": "stream",
     "text": [
      "ISBN-13: 9781851967773; Book: The Works of Elizabeth Gaskell, Part I; Rating: 5.0\n",
      "ISBN-13: 9780006385202; Book: Friends of Footprints: How \"Footprints\" Has Left Its Imprint on Readers Around the World; Rating: 5.0\n",
      "ISBN-13: 9780691095158; Book: Where to Watch Birds in Central America, Mexico, and the Caribbean; Rating: 5.0\n",
      "ISBN-13: 9780198162841; Book: Vaughan Williams's Ninth Symphony; Rating: 5.0\n",
      "ISBN-13: 9780805854893; Book: Twelve Years of Correspondence with Paul Meehl: Tough Notes from a Gentle Genius; Rating: 5.0\n",
      "ISBN-13: 9780160019999; Book: From the Volturno to the Winter Line, 6 October - 15 November 1943; Rating: 5.0\n",
      "ISBN-13: 9780856675256; Book: Vivienne Westwood: A London Fashion; Rating: 5.0\n",
      "ISBN-13: 9781565070899; Book: Proactive Parenting: The Only Approach That Works; Rating: 5.0\n",
      "ISBN-13: 9780595411030; Book: Shifting Sands: A Clash of Cultures; Rating: 5.0\n",
      "ISBN-13: 9780028723105; Book: Black Popular Music In America: The singers, songwriters and musicians who pioneered the sounds of American music; Rating: 5.0\n"
     ]
    }
   ],
   "source": [
    "# Perform a query that involves joins and sorting\n",
    "results1 = session.query(ISBN13.isbn13, Books.book_name, Books.rating).\\\n",
    "                        filter(Books.isbn == ISBN13.isbn).\\\n",
    "                        order_by(Books.rating.desc()).limit(10).all()\n",
    "\n",
    "for result in results1:\n",
    "    print(f'ISBN-13: {result[0]}; Book: {result[1]}; Rating: {result[2]}')"
   ]
  },
  {
   "cell_type": "markdown",
   "id": "ultimate-salvation",
   "metadata": {},
   "source": [
    "#### Scenario 2\n",
    "We are curious to see the top 10 authors with the highest <strong>average</strong> books rating that has written more than one book and the number of books they have written (at least in our database)."
   ]
  },
  {
   "cell_type": "code",
   "execution_count": 45,
   "id": "accomplished-valley",
   "metadata": {},
   "outputs": [
    {
     "name": "stdout",
     "output_type": "stream",
     "text": [
      "Author/Artist: Clive   Barker; Average Rating: 4.89; Number of Works:11\n",
      "Author/Artist: Guns N' Roses; Average Rating: 4.77; Number of Works:12\n",
      "Author/Artist: Metallica; Average Rating: 4.7; Number of Works:13\n",
      "Author/Artist: Bill Watterson; Average Rating: 4.69; Number of Works:26\n",
      "Author/Artist: Adi Da Samraj; Average Rating: 4.69; Number of Works:18\n",
      "Author/Artist: Bentley Boyd; Average Rating: 4.68; Number of Works:11\n",
      "Author/Artist: Joel S. Goldsmith; Average Rating: 4.66; Number of Works:21\n",
      "Author/Artist: Frédéric Chopin; Average Rating: 4.64; Number of Works:15\n",
      "Author/Artist: Salaheddin Ali Nader Shah Angha; Average Rating: 4.61; Number of Works:14\n",
      "Author/Artist: Robert N. Pripps; Average Rating: 4.61; Number of Works:12\n"
     ]
    }
   ],
   "source": [
    "# Perform a query that involves aggregating and sorting\n",
    "results2 = session.query(Books.authors,\\\n",
    "                         func.avg(Books.rating),\\\n",
    "                         func.count(Books.book_name)).\\\n",
    "                        group_by(Books.authors).\\\n",
    "                        having(func.count(Books.book_name) > 10).\\\n",
    "                        order_by(func.avg(Books.rating).desc()).limit(10).all()\n",
    "\n",
    "for result in results2:\n",
    "    print(f'Author/Artist: {result[0]}; Average Rating: {round(result[1], 2)}; Number of Works:{result[2]}')"
   ]
  },
  {
   "cell_type": "markdown",
   "id": "chronic-theory",
   "metadata": {},
   "source": [
    "<br>\n",
    "Comment: Unfortunately it looks like the books_info (Kaggle) dataset originally created from \"goodreads.com\" is not only limited to <em>writers</em> or \"<em>book authors</em>\" if you will. The returned results that meet our criteria included <strong>Guns N' Roses</strong> and  <strong>Metallica</strong> who are bands... There are also cartoonist, composer, and even <em>Spirital Teacher</em>. Only a few of them are actually recognized as either writer, author, or playwright."
   ]
  },
  {
   "cell_type": "code",
   "execution_count": 46,
   "id": "special-apollo",
   "metadata": {},
   "outputs": [],
   "source": [
    "# Close the session\n",
    "session.close() "
   ]
  },
  {
   "cell_type": "code",
   "execution_count": null,
   "id": "close-cholesterol",
   "metadata": {},
   "outputs": [],
   "source": []
  }
 ],
 "metadata": {
  "kernelspec": {
   "display_name": "Python [conda env:PythonData] *",
   "language": "python",
   "name": "conda-env-PythonData-py"
  },
  "language_info": {
   "codemirror_mode": {
    "name": "ipython",
    "version": 3
   },
   "file_extension": ".py",
   "mimetype": "text/x-python",
   "name": "python",
   "nbconvert_exporter": "python",
   "pygments_lexer": "ipython3",
   "version": "3.6.10"
  }
 },
 "nbformat": 4,
 "nbformat_minor": 5
}
