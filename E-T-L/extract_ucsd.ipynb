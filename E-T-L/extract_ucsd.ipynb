{
 "cells": [
  {
   "cell_type": "markdown",
   "metadata": {},
   "source": [
    "# Import data from goodreads data set\n",
    "<hr>\n",
    "\n",
    "### Original dataset contains 2M rows of data\n",
    "\n",
    "The original dataset is 2GB in size which is too large to be uploaded to Git. As a result, please note: <strong>for the purpose of this exercise/mini-project, the original file \"goodreads_books.json.gz\" will not be included in the repo.</strong>\n",
    "\n",
    "Please reference \"source_ucsd.csv\" - which is a csv version of the original json cut down on rows and with unwanted columns filtered out - as the second main dataset that we will perform  \"(T)ransformation\" on."
   ]
  },
  {
   "cell_type": "markdown",
   "metadata": {},
   "source": [
    "## Dependencies"
   ]
  },
  {
   "cell_type": "code",
   "execution_count": 1,
   "metadata": {},
   "outputs": [],
   "source": [
    "import gzip\n",
    "import json\n",
    "import re\n",
    "import os\n",
    "import sys\n",
    "import numpy as np\n",
    "import pandas as pd"
   ]
  },
  {
   "cell_type": "markdown",
   "metadata": {},
   "source": [
    "## Create function to load chunks of the goodreads data set"
   ]
  },
  {
   "cell_type": "code",
   "execution_count": 3,
   "metadata": {},
   "outputs": [],
   "source": [
    "DIR1 = '../'\n",
    "DIR2 = 'raw_datasets/'\n",
    "\n",
    "def load_data(file_name, head = 500000):\n",
    "    count = 0\n",
    "    data = []\n",
    "    with gzip.open(file_name) as fin:\n",
    "        for l in fin:\n",
    "            d = json.loads(l)\n",
    "            count += 1\n",
    "            data.append(d)\n",
    "            \n",
    "            # break if reaches the 100th line\n",
    "            if (head is not None) and (count > head):\n",
    "                break\n",
    "    return data"
   ]
  },
  {
   "cell_type": "markdown",
   "metadata": {},
   "source": [
    "## Load data into books"
   ]
  },
  {
   "cell_type": "code",
   "execution_count": 4,
   "metadata": {},
   "outputs": [],
   "source": [
    "books = load_data(os.path.join(DIR1, DIR2, 'goodreads_books.json.gz'))"
   ]
  },
  {
   "cell_type": "markdown",
   "metadata": {},
   "source": [
    "## Load list of dictionaries into dataframe"
   ]
  },
  {
   "cell_type": "code",
   "execution_count": 5,
   "metadata": {},
   "outputs": [
    {
     "data": {
      "text/plain": [
       "(500001, 29)"
      ]
     },
     "execution_count": 5,
     "metadata": {},
     "output_type": "execute_result"
    }
   ],
   "source": [
    "df = pd.DataFrame(books)\n",
    "\n",
    "df.shape"
   ]
  },
  {
   "cell_type": "markdown",
   "metadata": {},
   "source": [
    "## Look at columns and data types"
   ]
  },
  {
   "cell_type": "code",
   "execution_count": 9,
   "metadata": {},
   "outputs": [
    {
     "data": {
      "text/plain": [
       "isbn                                                           0312853122\n",
       "text_reviews_count                                                      1\n",
       "series                                                                 []\n",
       "country_code                                                           US\n",
       "language_code                                                            \n",
       "popular_shelves         [{'count': '3', 'name': 'to-read'}, {'count': ...\n",
       "asin                                                                     \n",
       "is_ebook                                                            false\n",
       "average_rating                                                       4.00\n",
       "kindle_asin                                                              \n",
       "similar_books                                                          []\n",
       "description                                                              \n",
       "format                                                          Paperback\n",
       "link                    https://www.goodreads.com/book/show/5333265-w-...\n",
       "authors                             [{'author_id': '604031', 'role': ''}]\n",
       "publisher                                              St. Martin's Press\n",
       "num_pages                                                             256\n",
       "publication_day                                                         1\n",
       "isbn13                                                      9780312853129\n",
       "publication_month                                                       9\n",
       "edition_information                                                      \n",
       "publication_year                                                     1984\n",
       "url                     https://www.goodreads.com/book/show/5333265-w-...\n",
       "image_url               https://images.gr-assets.com/books/1310220028m...\n",
       "book_id                                                           5333265\n",
       "ratings_count                                                           3\n",
       "work_id                                                           5400751\n",
       "title                                         W.C. Fields: A Life on Film\n",
       "title_without_series                          W.C. Fields: A Life on Film\n",
       "Name: 0, dtype: object"
      ]
     },
     "execution_count": 9,
     "metadata": {},
     "output_type": "execute_result"
    }
   ],
   "source": [
    "df.loc[0]"
   ]
  },
  {
   "cell_type": "code",
   "execution_count": 8,
   "metadata": {},
   "outputs": [
    {
     "data": {
      "text/plain": [
       "Index(['isbn', 'text_reviews_count', 'series', 'country_code', 'language_code',\n",
       "       'popular_shelves', 'asin', 'is_ebook', 'average_rating', 'kindle_asin',\n",
       "       'similar_books', 'description', 'format', 'link', 'authors',\n",
       "       'publisher', 'num_pages', 'publication_day', 'isbn13',\n",
       "       'publication_month', 'edition_information', 'publication_year', 'url',\n",
       "       'image_url', 'book_id', 'ratings_count', 'work_id', 'title',\n",
       "       'title_without_series'],\n",
       "      dtype='object')"
      ]
     },
     "execution_count": 8,
     "metadata": {},
     "output_type": "execute_result"
    }
   ],
   "source": [
    "df.columns"
   ]
  },
  {
   "cell_type": "markdown",
   "metadata": {},
   "source": [
    "## Create file with columns of interest to reduce file size"
   ]
  },
  {
   "cell_type": "code",
   "execution_count": 10,
   "metadata": {},
   "outputs": [],
   "source": [
    "df_red = df[['isbn', 'isbn13', 'title']]"
   ]
  },
  {
   "cell_type": "markdown",
   "metadata": {},
   "source": [
    "## Send data to CSV"
   ]
  },
  {
   "cell_type": "code",
   "execution_count": 11,
   "metadata": {},
   "outputs": [],
   "source": [
    "df_red.to_csv('../cleaned_datasets/source_ucsd.csv')"
   ]
  }
 ],
 "metadata": {
  "kernelspec": {
   "display_name": "Python [conda env:PythonData] *",
   "language": "python",
   "name": "conda-env-PythonData-py"
  },
  "language_info": {
   "codemirror_mode": {
    "name": "ipython",
    "version": 3
   },
   "file_extension": ".py",
   "mimetype": "text/x-python",
   "name": "python",
   "nbconvert_exporter": "python",
   "pygments_lexer": "ipython3",
   "version": "3.6.10"
  }
 },
 "nbformat": 4,
 "nbformat_minor": 4
}
